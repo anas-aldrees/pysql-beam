{
 "cells": [
  {
   "cell_type": "code",
   "execution_count": null,
   "metadata": {},
   "outputs": [],
   "source": [
    "! python cloud_sql_to_file.py --host 172.16.32.3 --port 1433 --database shapiro --username sqlserver --password 5HjmiJNj4hcnuEyw --table MRRECVH --output MRRECVH"
   ]
  },
  {
   "cell_type": "code",
   "execution_count": null,
   "metadata": {},
   "outputs": [],
   "source": [
    "%pip install -r ../../requirements.txt"
   ]
  },
  {
   "cell_type": "code",
   "execution_count": null,
   "metadata": {},
   "outputs": [],
   "source": [
    "! /root/apache-beam-2.25.0/bin/python -m pip install --upgrade pip"
   ]
  },
  {
   "cell_type": "code",
   "execution_count": null,
   "metadata": {},
   "outputs": [],
   "source": [
    "%pip install apache-beam[gcp]"
   ]
  },
  {
   "cell_type": "code",
   "execution_count": null,
   "metadata": {},
   "outputs": [],
   "source": [
    "%pip install oauth2client==3.0.0"
   ]
  },
  {
   "cell_type": "code",
   "execution_count": null,
   "metadata": {},
   "outputs": [],
   "source": [
    "%pip install httplib2==0.9.2"
   ]
  },
  {
   "cell_type": "code",
   "execution_count": null,
   "metadata": {},
   "outputs": [],
   "source": [
    "import sys\n",
    "sys.path.insert(0, '/home/jupyter/shapiro-johannes/pysql-beam/pysql-beam')\n",
    "sys.path.insert(0, '/home/jupyter/shapiro-johannes/pysql-beam')\n",
    "import logging\n",
    "import apache_beam as beam\n",
    "from pysql_beam.sql_io.sql import SQLSource, SQLWriter, ReadFromSQL\n",
    "from pysql_beam.sql_io.wrapper import MSSQLWrapper\n",
    "from apache_beam.options.pipeline_options import PipelineOptions, StandardOptions, SetupOptions, GoogleCloudOptions\n",
    "from apache_beam.runners.interactive.interactive_runner import InteractiveRunner\n",
    "import apache_beam.runners.interactive.interactive_beam as ib\n",
    "from apache_beam.io.gcp.internal.clients.bigquery import TableReference\n"
   ]
  },
  {
   "cell_type": "code",
   "execution_count": null,
   "metadata": {},
   "outputs": [],
   "source": [
    "dir(TableReference)"
   ]
  },
  {
   "cell_type": "code",
   "execution_count": null,
   "metadata": {},
   "outputs": [],
   "source": [
    "def log(row, level=\"debug\"):\n",
    "    getattr(logging, level.lower())(row)\n",
    "    return row\n"
   ]
  },
  {
   "cell_type": "code",
   "execution_count": null,
   "metadata": {},
   "outputs": [],
   "source": [
    "options = PipelineOptions(host = , port =1433, username='sqlserver', database='shapiro',  password = '5HjmiJNj4hcnuEyw', query = 'SELECT count(*) from ADDIV;')"
   ]
  },
  {
   "cell_type": "code",
   "execution_count": null,
   "metadata": {},
   "outputs": [],
   "source": [
    "options.view_as(StandardOptions).streaming = True"
   ]
  },
  {
   "cell_type": "code",
   "execution_count": null,
   "metadata": {},
   "outputs": [],
   "source": [
    "#options = pipeline_options.view_as(SetupOptions)"
   ]
  },
  {
   "cell_type": "code",
   "execution_count": null,
   "metadata": {},
   "outputs": [],
   "source": [
    "print(options)"
   ]
  },
  {
   "cell_type": "code",
   "execution_count": null,
   "metadata": {},
   "outputs": [],
   "source": [
    "! ls ../.."
   ]
  },
  {
   "cell_type": "code",
   "execution_count": null,
   "metadata": {},
   "outputs": [],
   "source": [
    "options.requirements_file = \"../../requirements.txt\""
   ]
  },
  {
   "cell_type": "code",
   "execution_count": null,
   "metadata": {},
   "outputs": [],
   "source": [
    "options.requirements_file"
   ]
  },
  {
   "cell_type": "code",
   "execution_count": null,
   "metadata": {},
   "outputs": [],
   "source": [
    "p = beam.Pipeline(InteractiveRunner(), options=options)"
   ]
  },
  {
   "cell_type": "code",
   "execution_count": null,
   "metadata": {},
   "outputs": [],
   "source": [
    "mysql_data = p | ReadFromSQL(host='172.16.32.3', port=1433,\n",
    "                                        username='sqlserver', password='5HjmiJNj4hcnuEyw',\n",
    "                                        databae='shapiro', query='SELECT count(*) from ADDIV;',\n",
    "                                        wrapper=MSSQLWrapper,\n",
    "                                        #wrapper=MySQLWrapper,\n",
    "                                        # wrapper=PostgresWrapper\n",
    "                                        #\n",
    "                                        )"
   ]
  },
  {
   "cell_type": "code",
   "execution_count": null,
   "metadata": {},
   "outputs": [],
   "source": [
    "windowed_data = (mysql_data | \"window\" >> beam.WindowInto(beam.window.FixedWindows(10)))"
   ]
  },
  {
   "cell_type": "code",
   "execution_count": null,
   "metadata": {},
   "outputs": [],
   "source": [
    "! echo $(cat mrrecvh_mrrecvd_ppprice_lj.sql) "
   ]
  },
  {
   "cell_type": "code",
   "execution_count": 14,
   "metadata": {},
   "outputs": [
    {
     "name": "stdout",
     "output_type": "stream",
     "text": [
      "from inside the readFromSQL class, source: <class 'pysql_beam.sql_io.wrapper.MSSQLWrapper'>\n",
      "pagination query do fn wrapper: <class 'pysql_beam.sql_io.wrapper.MSSQLWrapper'>\n",
      "/opt/conda/lib/python3.7/site-packages/apache_beam/io/gcp/bigquery.py:1677: BeamDeprecationWarning: options is deprecated since First stable release. References to <pipeline>.options will not be supported\n",
      "  experiments = p.options.view_as(DebugOptions).experiments or []\n",
      "/opt/conda/lib/python3.7/site-packages/apache_beam/io/gcp/bigquery_file_loads.py:900: BeamDeprecationWarning: options is deprecated since First stable release. References to <pipeline>.options will not be supported\n",
      "  temp_location = p.options.view_as(GoogleCloudOptions).temp_location\n",
      "host 172.16.32.3\n",
      "port 1433\n",
      "database shapiro\n",
      "username sqlserver\n",
      "password 5HjmiJNj4hcnuEyw\n",
      "query SELECT DATEFROMPARTS(YEAR(MRRECVH.RECV_DATE),MONTH(MRRECVH.RECV_DATE), DAY(MRRECVH.RECV_DATE)) as 'Date', MRRECVH.RECV_DATE, MRRECVD.CONTROL, SUBSTRING(MRRECVD.CONTROL, 9, 2) as 'ADJ', MRRECVD.LINE_TYPE, MRRECVD.SEQUENCE, MRRECVD.ACCOUNT, MRRECVD.COMMODITY, MRRECVD.YARD, MRRECVD.DESCRIPTION, MRRECVD.SETL_NET, MRRECVD.SETL_PRICE, MRRECVD.SETL_UM, MRRECVD.SETL_AMOUNT, PPPrice.EFFECTIVE_DATE, PPPrice.EXPIRE_DATE, PPPrice.DESCRIPTION, PPPrice.MARKET, PPPrice.MARKET_COMM, PPPrice.MARKET_BASE, PPPrice.DIFF_AMOUNT1, PPPrice.DIFF_PERCENT, PPPrice.DIFF_AMOUNT2, PPPrice.PRICE, PPPrice.PRICE_UM, PPPrice.COMMENT, PPMKTD.EFFECTIVE_DATE, PPMKTD.LOW_PRICE, PPMKTD.HIGH_PRICE, PPMKTD.PRICE_UM, PPMKTD.DESCRIPTION FROM MRRECVD INNER JOIN MRRECVH on MRRECVD.COMPANY = MRRECVH.COMPANY and MRRECVD.DIVISION = MRRECVH.DIVISION and MRRECVD.CONTROL = MRRECVH.CONTROL left outer join PPPrice on MRRECVD.COMPANY = PPPrice.COMPANY and MRRECVD.DIVISION = PPPrice.DIVISION and MRRECVD.ACCOUNT = PPPrice.ACCOUNT and MRRECVD.COMMODITY = PPPrice.COMMODITY and MRRECVD.YARD = PPPrice.YARD and MRRECVH.RECV_DATE between PPPrice.EFFECTIVE_DATE AND COALESCE(PPPrice.EXPIRE_DATE, '9999-12-31') left outer join PPMKTD on MRRECVD.COMPANY = PPMKTD.COMPANY and MRRECVD.DIVISION = PPMKTD.DIVISION and PPPrice.MARKET_COMM = PPMKTD.COMMODITY and PPPrice.MARKET = PPMKTD.MARKET and DATEFROMPARTS(YEAR(MRRECVH.RECV_DATE),MONTH(MRRECVH.RECV_DATE),1) = PPMKTD.EFFECTIVE_DATE where MRRECVH.RECV_DATE > '2019-01-01'\n",
      "we're in the process method now; source.client: <pysql_beam.sql_io.wrapper.MSSQLWrapper object at 0x7f117a5632d0>\n",
      "select count(1) as row_count from (SELECT DATEFROMPARTS(YEAR(MRRECVH.RECV_DATE),MONTH(MRRECVH.RECV_DATE), DAY(MRRECVH.RECV_DATE)) as 'Date', MRRECVH.RECV_DATE, MRRECVD.CONTROL, SUBSTRING(MRRECVD.CONTROL, 9, 2) as 'ADJ', MRRECVD.LINE_TYPE, MRRECVD.SEQUENCE, MRRECVD.ACCOUNT, MRRECVD.COMMODITY, MRRECVD.YARD, MRRECVD.DESCRIPTION, MRRECVD.SETL_NET, MRRECVD.SETL_PRICE, MRRECVD.SETL_UM, MRRECVD.SETL_AMOUNT, PPPrice.EFFECTIVE_DATE, PPPrice.EXPIRE_DATE, PPPrice.DESCRIPTION, PPPrice.MARKET, PPPrice.MARKET_COMM, PPPrice.MARKET_BASE, PPPrice.DIFF_AMOUNT1, PPPrice.DIFF_PERCENT, PPPrice.DIFF_AMOUNT2, PPPrice.PRICE, PPPrice.PRICE_UM, PPPrice.COMMENT, PPMKTD.EFFECTIVE_DATE, PPMKTD.LOW_PRICE, PPMKTD.HIGH_PRICE, PPMKTD.PRICE_UM, PPMKTD.DESCRIPTION FROM MRRECVD INNER JOIN MRRECVH on MRRECVD.COMPANY = MRRECVH.COMPANY and MRRECVD.DIVISION = MRRECVH.DIVISION and MRRECVD.CONTROL = MRRECVH.CONTROL left outer join PPPrice on MRRECVD.COMPANY = PPPrice.COMPANY and MRRECVD.DIVISION = PPPrice.DIVISION and MRRECVD.ACCOUNT = PPPrice.ACCOUNT and MRRECVD.COMMODITY = PPPrice.COMMODITY and MRRECVD.YARD = PPPrice.YARD and MRRECVH.RECV_DATE between PPPrice.EFFECTIVE_DATE AND COALESCE(PPPrice.EXPIRE_DATE, '9999-12-31') left outer join PPMKTD on MRRECVD.COMPANY = PPMKTD.COMPANY and MRRECVD.DIVISION = PPMKTD.DIVISION and PPPrice.MARKET_COMM = PPMKTD.COMMODITY and PPPrice.MARKET = PPMKTD.MARKET and DATEFROMPARTS(YEAR(MRRECVH.RECV_DATE),MONTH(MRRECVH.RECV_DATE),1) = PPMKTD.EFFECTIVE_DATE where MRRECVH.RECV_DATE > '2019-01-01') as subq ORDER BY 1 OFFSET 0 ROWS FETCH NEXT 1000 ROWS ONLY;\n",
      "ERROR:root:('42000', \"[42000] [Microsoft][ODBC Driver 17 for SQL Server][SQL Server]The column 'DESCRIPTION' was specified multiple times for 'subq'. (8156) (SQLExecDirectW)\")\n",
      "SELECT DATEFROMPARTS(YEAR(MRRECVH.RECV_DATE),MONTH(MRRECVH.RECV_DATE), DAY(MRRECVH.RECV_DATE)) as 'Date', MRRECVH.RECV_DATE, MRRECVD.CONTROL, SUBSTRING(MRRECVD.CONTROL, 9, 2) as 'ADJ', MRRECVD.LINE_TYPE, MRRECVD.SEQUENCE, MRRECVD.ACCOUNT, MRRECVD.COMMODITY, MRRECVD.YARD, MRRECVD.DESCRIPTION, MRRECVD.SETL_NET, MRRECVD.SETL_PRICE, MRRECVD.SETL_UM, MRRECVD.SETL_AMOUNT, PPPrice.EFFECTIVE_DATE, PPPrice.EXPIRE_DATE, PPPrice.DESCRIPTION, PPPrice.MARKET, PPPrice.MARKET_COMM, PPPrice.MARKET_BASE, PPPrice.DIFF_AMOUNT1, PPPrice.DIFF_PERCENT, PPPrice.DIFF_AMOUNT2, PPPrice.PRICE, PPPrice.PRICE_UM, PPPrice.COMMENT, PPMKTD.EFFECTIVE_DATE, PPMKTD.LOW_PRICE, PPMKTD.HIGH_PRICE, PPMKTD.PRICE_UM, PPMKTD.DESCRIPTION FROM MRRECVD INNER JOIN MRRECVH on MRRECVD.COMPANY = MRRECVH.COMPANY and MRRECVD.DIVISION = MRRECVH.DIVISION and MRRECVD.CONTROL = MRRECVH.CONTROL left outer join PPPrice on MRRECVD.COMPANY = PPPrice.COMPANY and MRRECVD.DIVISION = PPPrice.DIVISION and MRRECVD.ACCOUNT = PPPrice.ACCOUNT and MRRECVD.COMMODITY = PPPrice.COMMODITY and MRRECVD.YARD = PPPrice.YARD and MRRECVH.RECV_DATE between PPPrice.EFFECTIVE_DATE AND COALESCE(PPPrice.EXPIRE_DATE, '9999-12-31') left outer join PPMKTD on MRRECVD.COMPANY = PPMKTD.COMPANY and MRRECVD.DIVISION = PPMKTD.DIVISION and PPPrice.MARKET_COMM = PPMKTD.COMMODITY and PPPrice.MARKET = PPMKTD.MARKET and DATEFROMPARTS(YEAR(MRRECVH.RECV_DATE),MONTH(MRRECVH.RECV_DATE),1) = PPMKTD.EFFECTIVE_DATE where MRRECVH.RECV_DATE > '2019-01-01'\n",
      "host 172.16.32.3\n",
      "port 1433\n",
      "database shapiro\n",
      "username sqlserver\n",
      "password 5HjmiJNj4hcnuEyw\n",
      "query SELECT DATEFROMPARTS(YEAR(MRRECVH.RECV_DATE),MONTH(MRRECVH.RECV_DATE), DAY(MRRECVH.RECV_DATE)) as 'Date', MRRECVH.RECV_DATE, MRRECVD.CONTROL, SUBSTRING(MRRECVD.CONTROL, 9, 2) as 'ADJ', MRRECVD.LINE_TYPE, MRRECVD.SEQUENCE, MRRECVD.ACCOUNT, MRRECVD.COMMODITY, MRRECVD.YARD, MRRECVD.DESCRIPTION, MRRECVD.SETL_NET, MRRECVD.SETL_PRICE, MRRECVD.SETL_UM, MRRECVD.SETL_AMOUNT, PPPrice.EFFECTIVE_DATE, PPPrice.EXPIRE_DATE, PPPrice.DESCRIPTION, PPPrice.MARKET, PPPrice.MARKET_COMM, PPPrice.MARKET_BASE, PPPrice.DIFF_AMOUNT1, PPPrice.DIFF_PERCENT, PPPrice.DIFF_AMOUNT2, PPPrice.PRICE, PPPrice.PRICE_UM, PPPrice.COMMENT, PPMKTD.EFFECTIVE_DATE, PPMKTD.LOW_PRICE, PPMKTD.HIGH_PRICE, PPMKTD.PRICE_UM, PPMKTD.DESCRIPTION FROM MRRECVD INNER JOIN MRRECVH on MRRECVD.COMPANY = MRRECVH.COMPANY and MRRECVD.DIVISION = MRRECVH.DIVISION and MRRECVD.CONTROL = MRRECVH.CONTROL left outer join PPPrice on MRRECVD.COMPANY = PPPrice.COMPANY and MRRECVD.DIVISION = PPPrice.DIVISION and MRRECVD.ACCOUNT = PPPrice.ACCOUNT and MRRECVD.COMMODITY = PPPrice.COMMODITY and MRRECVD.YARD = PPPrice.YARD and MRRECVH.RECV_DATE between PPPrice.EFFECTIVE_DATE AND COALESCE(PPPrice.EXPIRE_DATE, '9999-12-31') left outer join PPMKTD on MRRECVD.COMPANY = PPMKTD.COMPANY and MRRECVD.DIVISION = PPMKTD.DIVISION and PPPrice.MARKET_COMM = PPMKTD.COMMODITY and PPPrice.MARKET = PPMKTD.MARKET and DATEFROMPARTS(YEAR(MRRECVH.RECV_DATE),MONTH(MRRECVH.RECV_DATE),1) = PPMKTD.EFFECTIVE_DATE where MRRECVH.RECV_DATE > '2019-01-01'\n",
      "here I'm now reading from source client: <pysql_beam.sql_io.wrapper.MSSQLWrapper object at 0x7f117a5c80d0>\n",
      "<pysql_beam.sql_io.wrapper.MSSQLWrapper object at 0x7f117a5b4390> SELECT DATEFROMPARTS(YEAR(MRRECVH.RECV_DATE),MONTH(MRRECVH.RECV_DATE), DAY(MRRECVH.RECV_DATE)) as 'Date', MRRECVH.RECV_DATE, MRRECVD.CONTROL, SUBSTRING(MRRECVD.CONTROL, 9, 2) as 'ADJ', MRRECVD.LINE_TYPE, MRRECVD.SEQUENCE, MRRECVD.ACCOUNT, MRRECVD.COMMODITY, MRRECVD.YARD, MRRECVD.DESCRIPTION, MRRECVD.SETL_NET, MRRECVD.SETL_PRICE, MRRECVD.SETL_UM, MRRECVD.SETL_AMOUNT, PPPrice.EFFECTIVE_DATE, PPPrice.EXPIRE_DATE, PPPrice.DESCRIPTION, PPPrice.MARKET, PPPrice.MARKET_COMM, PPPrice.MARKET_BASE, PPPrice.DIFF_AMOUNT1, PPPrice.DIFF_PERCENT, PPPrice.DIFF_AMOUNT2, PPPrice.PRICE, PPPrice.PRICE_UM, PPPrice.COMMENT, PPMKTD.EFFECTIVE_DATE, PPMKTD.LOW_PRICE, PPMKTD.HIGH_PRICE, PPMKTD.PRICE_UM, PPMKTD.DESCRIPTION FROM MRRECVD INNER JOIN MRRECVH on MRRECVD.COMPANY = MRRECVH.COMPANY and MRRECVD.DIVISION = MRRECVH.DIVISION and MRRECVD.CONTROL = MRRECVH.CONTROL left outer join PPPrice on MRRECVD.COMPANY = PPPrice.COMPANY and MRRECVD.DIVISION = PPPrice.DIVISION and MRRECVD.ACCOUNT = PPPrice.ACCOUNT and MRRECVD.COMMODITY = PPPrice.COMMODITY and MRRECVD.YARD = PPPrice.YARD and MRRECVH.RECV_DATE between PPPrice.EFFECTIVE_DATE AND COALESCE(PPPrice.EXPIRE_DATE, '9999-12-31') left outer join PPMKTD on MRRECVD.COMPANY = PPMKTD.COMPANY and MRRECVD.DIVISION = PPMKTD.DIVISION and PPPrice.MARKET_COMM = PPMKTD.COMMODITY and PPPrice.MARKET = PPMKTD.MARKET and DATEFROMPARTS(YEAR(MRRECVH.RECV_DATE),MONTH(MRRECVH.RECV_DATE),1) = PPMKTD.EFFECTIVE_DATE where MRRECVH.RECV_DATE > '2019-01-01'\n",
      "SELECT DATEFROMPARTS(YEAR(MRRECVH.RECV_DATE),MONTH(MRRECVH.RECV_DATE), DAY(MRRECVH.RECV_DATE)) as 'Date', MRRECVH.RECV_DATE, MRRECVD.CONTROL, SUBSTRING(MRRECVD.CONTROL, 9, 2) as 'ADJ', MRRECVD.LINE_TYPE, MRRECVD.SEQUENCE, MRRECVD.ACCOUNT, MRRECVD.COMMODITY, MRRECVD.YARD, MRRECVD.DESCRIPTION, MRRECVD.SETL_NET, MRRECVD.SETL_PRICE, MRRECVD.SETL_UM, MRRECVD.SETL_AMOUNT, PPPrice.EFFECTIVE_DATE, PPPrice.EXPIRE_DATE, PPPrice.DESCRIPTION, PPPrice.MARKET, PPPrice.MARKET_COMM, PPPrice.MARKET_BASE, PPPrice.DIFF_AMOUNT1, PPPrice.DIFF_PERCENT, PPPrice.DIFF_AMOUNT2, PPPrice.PRICE, PPPrice.PRICE_UM, PPPrice.COMMENT, PPMKTD.EFFECTIVE_DATE, PPMKTD.LOW_PRICE, PPMKTD.HIGH_PRICE, PPMKTD.PRICE_UM, PPMKTD.DESCRIPTION FROM MRRECVD INNER JOIN MRRECVH on MRRECVD.COMPANY = MRRECVH.COMPANY and MRRECVD.DIVISION = MRRECVH.DIVISION and MRRECVD.CONTROL = MRRECVH.CONTROL left outer join PPPrice on MRRECVD.COMPANY = PPPrice.COMPANY and MRRECVD.DIVISION = PPPrice.DIVISION and MRRECVD.ACCOUNT = PPPrice.ACCOUNT and MRRECVD.COMMODITY = PPPrice.COMMODITY and MRRECVD.YARD = PPPrice.YARD and MRRECVH.RECV_DATE between PPPrice.EFFECTIVE_DATE AND COALESCE(PPPrice.EXPIRE_DATE, '9999-12-31') left outer join PPMKTD on MRRECVD.COMPANY = PPMKTD.COMPANY and MRRECVD.DIVISION = PPMKTD.DIVISION and PPPrice.MARKET_COMM = PPMKTD.COMMODITY and PPPrice.MARKET = PPMKTD.MARKET and DATEFROMPARTS(YEAR(MRRECVH.RECV_DATE),MONTH(MRRECVH.RECV_DATE),1) = PPMKTD.EFFECTIVE_DATE where MRRECVH.RECV_DATE > '2019-01-01' ORDER BY 1 OFFSET 0 ROWS FETCH NEXT 5000 ROWS ONLY;\n",
      "second pagination in the MSSQL world? SELECT DATEFROMPARTS(YEAR(MRRECVH.RECV_DATE),MONTH(MRRECVH.RECV_DATE), DAY(MRRECVH.RECV_DATE)) as 'Date', MRRECVH.RECV_DATE, MRRECVD.CONTROL, SUBSTRING(MRRECVD.CONTROL, 9, 2) as 'ADJ', MRRECVD.LINE_TYPE, MRRECVD.SEQUENCE, MRRECVD.ACCOUNT, MRRECVD.COMMODITY, MRRECVD.YARD, MRRECVD.DESCRIPTION, MRRECVD.SETL_NET, MRRECVD.SETL_PRICE, MRRECVD.SETL_UM, MRRECVD.SETL_AMOUNT, PPPrice.EFFECTIVE_DATE, PPPrice.EXPIRE_DATE, PPPrice.DESCRIPTION, PPPrice.MARKET, PPPrice.MARKET_COMM, PPPrice.MARKET_BASE, PPPrice.DIFF_AMOUNT1, PPPrice.DIFF_PERCENT, PPPrice.DIFF_AMOUNT2, PPPrice.PRICE, PPPrice.PRICE_UM, PPPrice.COMMENT, PPMKTD.EFFECTIVE_DATE, PPMKTD.LOW_PRICE, PPMKTD.HIGH_PRICE, PPMKTD.PRICE_UM, PPMKTD.DESCRIPTION FROM MRRECVD INNER JOIN MRRECVH on MRRECVD.COMPANY = MRRECVH.COMPANY and MRRECVD.DIVISION = MRRECVH.DIVISION and MRRECVD.CONTROL = MRRECVH.CONTROL left outer join PPPrice on MRRECVD.COMPANY = PPPrice.COMPANY and MRRECVD.DIVISION = PPPrice.DIVISION and MRRECVD.ACCOUNT = PPPrice.ACCOUNT and MRRECVD.COMMODITY = PPPrice.COMMODITY and MRRECVD.YARD = PPPrice.YARD and MRRECVH.RECV_DATE between PPPrice.EFFECTIVE_DATE AND COALESCE(PPPrice.EXPIRE_DATE, '9999-12-31') left outer join PPMKTD on MRRECVD.COMPANY = PPMKTD.COMPANY and MRRECVD.DIVISION = PPMKTD.DIVISION and PPPrice.MARKET_COMM = PPMKTD.COMMODITY and PPPrice.MARKET = PPMKTD.MARKET and DATEFROMPARTS(YEAR(MRRECVH.RECV_DATE),MONTH(MRRECVH.RECV_DATE),1) = PPMKTD.EFFECTIVE_DATE where MRRECVH.RECV_DATE > '2019-01-01'\n"
     ]
    }
   ],
   "source": [
    "! python cloud_sql_to_file.py  --host '172.16.32.3'  --port 1433  --database 'shapiro'  --username 'sqlserver'  --password '5HjmiJNj4hcnuEyw'  --query \"SELECT DATEFROMPARTS(YEAR(MRRECVH.RECV_DATE),MONTH(MRRECVH.RECV_DATE), DAY(MRRECVH.RECV_DATE)) as 'Date', MRRECVH.RECV_DATE, MRRECVD.CONTROL, SUBSTRING(MRRECVD.CONTROL, 9, 2) as 'ADJ', MRRECVD.LINE_TYPE, MRRECVD.SEQUENCE, MRRECVD.ACCOUNT, MRRECVD.COMMODITY, MRRECVD.YARD, MRRECVD.DESCRIPTION, MRRECVD.SETL_NET, MRRECVD.SETL_PRICE, MRRECVD.SETL_UM, MRRECVD.SETL_AMOUNT, PPPrice.EFFECTIVE_DATE, PPPrice.EXPIRE_DATE, PPPrice.DESCRIPTION, PPPrice.MARKET, PPPrice.MARKET_COMM, PPPrice.MARKET_BASE, PPPrice.DIFF_AMOUNT1, PPPrice.DIFF_PERCENT, PPPrice.DIFF_AMOUNT2, PPPrice.PRICE, PPPrice.PRICE_UM, PPPrice.COMMENT, PPMKTD.EFFECTIVE_DATE, PPMKTD.LOW_PRICE, PPMKTD.HIGH_PRICE, PPMKTD.PRICE_UM, PPMKTD.DESCRIPTION FROM MRRECVD INNER JOIN MRRECVH on MRRECVD.COMPANY = MRRECVH.COMPANY and MRRECVD.DIVISION = MRRECVH.DIVISION and MRRECVD.CONTROL = MRRECVH.CONTROL left outer join PPPrice on MRRECVD.COMPANY = PPPrice.COMPANY and MRRECVD.DIVISION = PPPrice.DIVISION and MRRECVD.ACCOUNT = PPPrice.ACCOUNT and MRRECVD.COMMODITY = PPPrice.COMMODITY and MRRECVD.YARD = PPPrice.YARD and MRRECVH.RECV_DATE between PPPrice.EFFECTIVE_DATE AND COALESCE(PPPrice.EXPIRE_DATE, '9999-12-31') left outer join PPMKTD on MRRECVD.COMPANY = PPMKTD.COMPANY and MRRECVD.DIVISION = PPMKTD.DIVISION and PPPrice.MARKET_COMM = PPMKTD.COMMODITY and PPPrice.MARKET = PPMKTD.MARKET and DATEFROMPARTS(YEAR(MRRECVH.RECV_DATE),MONTH(MRRECVH.RECV_DATE),1) = PPMKTD.EFFECTIVE_DATE where MRRECVH.RECV_DATE > '2019-01-01'\"  --output_table 'shapiro-metals:shapiro_analytics.mrrecvh_mrrecvd_ppprice_lj' --temp_location \"gs://shapiro-dataflow-staging/tmp\" --experiment=use_beam_bq_sink #--region us-central1 --runner DataflowRunner  --project shapiro-metals  \n"
   ]
  },
  {
   "cell_type": "code",
   "execution_count": 15,
   "metadata": {},
   "outputs": [
    {
     "name": "stdout",
     "output_type": "stream",
     "text": [
      "from inside the readFromSQL class, source: <class 'pysql_beam.sql_io.wrapper.MSSQLWrapper'>\n",
      "pagination query do fn wrapper: <class 'pysql_beam.sql_io.wrapper.MSSQLWrapper'>\n",
      "/opt/conda/lib/python3.7/site-packages/apache_beam/io/gcp/bigquery.py:1677: BeamDeprecationWarning: options is deprecated since First stable release. References to <pipeline>.options will not be supported\n",
      "  experiments = p.options.view_as(DebugOptions).experiments or []\n",
      "/opt/conda/lib/python3.7/site-packages/apache_beam/io/gcp/bigquery_file_loads.py:900: BeamDeprecationWarning: options is deprecated since First stable release. References to <pipeline>.options will not be supported\n",
      "  temp_location = p.options.view_as(GoogleCloudOptions).temp_location\n",
      "host 172.16.32.3\n",
      "port 1433\n",
      "database shapiro\n",
      "username sqlserver\n",
      "password 5HjmiJNj4hcnuEyw\n",
      "query SELECT COMPANY, DIVISION, MARKET, COMMODITY, EFFECTIVE_DATE, ISSUE_DATE, DESCRIPTION, LOW_PRICE, HIGH_PRICE, PRICE_UM, CREATEDATE, CREATETIME, CREATEUSER, CREATESTATION, LASTDATE, LASTTIME, LASTUSER, LASTSTATION FROM shapiro.dbo.PPMKTD where EFFECTIVE_DATE >= '2019-01-01';\n",
      "we're in the process method now; source.client: <pysql_beam.sql_io.wrapper.MSSQLWrapper object at 0x7f9a6075d2d0>\n",
      "select count(1) as row_count from (SELECT COMPANY, DIVISION, MARKET, COMMODITY, EFFECTIVE_DATE, ISSUE_DATE, DESCRIPTION, LOW_PRICE, HIGH_PRICE, PRICE_UM, CREATEDATE, CREATETIME, CREATEUSER, CREATESTATION, LASTDATE, LASTTIME, LASTUSER, LASTSTATION FROM shapiro.dbo.PPMKTD where EFFECTIVE_DATE >= '2019-01-01') as subq ORDER BY 1 OFFSET 0 ROWS FETCH NEXT 1000 ROWS ONLY;\n",
      "second pagination in the MSSQL world? select count(1) as row_count from (SELECT COMPANY, DIVISION, MARKET, COMMODITY, EFFECTIVE_DATE, ISSUE_DATE, DESCRIPTION, LOW_PRICE, HIGH_PRICE, PRICE_UM, CREATEDATE, CREATETIME, CREATEUSER, CREATESTATION, LASTDATE, LASTTIME, LASTUSER, LASTSTATION FROM shapiro.dbo.PPMKTD where EFFECTIVE_DATE >= '2019-01-01') as subq\n",
      "SELECT COMPANY, DIVISION, MARKET, COMMODITY, EFFECTIVE_DATE, ISSUE_DATE, DESCRIPTION, LOW_PRICE, HIGH_PRICE, PRICE_UM, CREATEDATE, CREATETIME, CREATEUSER, CREATESTATION, LASTDATE, LASTTIME, LASTUSER, LASTSTATION FROM shapiro.dbo.PPMKTD where EFFECTIVE_DATE >= '2019-01-01' ORDER BY 1 OFFSET 2000 ROWS FETCH NEXT 1000 ROWS ONLY;\n",
      "host 172.16.32.3\n",
      "port 1433\n",
      "database shapiro\n",
      "username sqlserver\n",
      "password 5HjmiJNj4hcnuEyw\n",
      "query SELECT COMPANY, DIVISION, MARKET, COMMODITY, EFFECTIVE_DATE, ISSUE_DATE, DESCRIPTION, LOW_PRICE, HIGH_PRICE, PRICE_UM, CREATEDATE, CREATETIME, CREATEUSER, CREATESTATION, LASTDATE, LASTTIME, LASTUSER, LASTSTATION FROM shapiro.dbo.PPMKTD where EFFECTIVE_DATE >= '2019-01-01';\n",
      "here I'm now reading from source client: <pysql_beam.sql_io.wrapper.MSSQLWrapper object at 0x7f9a607b2410>\n",
      "<pysql_beam.sql_io.wrapper.MSSQLWrapper object at 0x7f9a607ca950> SELECT COMPANY, DIVISION, MARKET, COMMODITY, EFFECTIVE_DATE, ISSUE_DATE, DESCRIPTION, LOW_PRICE, HIGH_PRICE, PRICE_UM, CREATEDATE, CREATETIME, CREATEUSER, CREATESTATION, LASTDATE, LASTTIME, LASTUSER, LASTSTATION FROM shapiro.dbo.PPMKTD where EFFECTIVE_DATE >= '2019-01-01' ORDER BY 1 OFFSET 2000 ROWS FETCH NEXT 1000 ROWS ONLY;\n",
      "closing the query now SELECT COMPANY, DIVISION, MARKET, COMMODITY, EFFECTIVE_DATE, ISSUE_DATE, DESCRIPTION, LOW_PRICE, HIGH_PRICE, PRICE_UM, CREATEDATE, CREATETIME, CREATEUSER, CREATESTATION, LASTDATE, LASTTIME, LASTUSER, LASTSTATION FROM shapiro.dbo.PPMKTD where EFFECTIVE_DATE >= '2019-01-01' ORDER BY 1 OFFSET 2000 ROWS FETCH NEXT 1000 ROWS ONLY;\n",
      "SELECT COMPANY, DIVISION, MARKET, COMMODITY, EFFECTIVE_DATE, ISSUE_DATE, DESCRIPTION, LOW_PRICE, HIGH_PRICE, PRICE_UM, CREATEDATE, CREATETIME, CREATEUSER, CREATESTATION, LASTDATE, LASTTIME, LASTUSER, LASTSTATION FROM shapiro.dbo.PPMKTD where EFFECTIVE_DATE >= '2019-01-01' ORDER BY 1 OFFSET 2000 ROWS FETCH NEXT 1000 ROWS ONLY;\n",
      "SELECT COMPANY, DIVISION, MARKET, COMMODITY, EFFECTIVE_DATE, ISSUE_DATE, DESCRIPTION, LOW_PRICE, HIGH_PRICE, PRICE_UM, CREATEDATE, CREATETIME, CREATEUSER, CREATESTATION, LASTDATE, LASTTIME, LASTUSER, LASTSTATION FROM shapiro.dbo.PPMKTD where EFFECTIVE_DATE >= '2019-01-01' ORDER BY 1 OFFSET 0 ROWS FETCH NEXT 1000 ROWS ONLY;\n",
      "host 172.16.32.3\n",
      "port 1433\n",
      "database shapiro\n",
      "username sqlserver\n",
      "password 5HjmiJNj4hcnuEyw\n",
      "query SELECT COMPANY, DIVISION, MARKET, COMMODITY, EFFECTIVE_DATE, ISSUE_DATE, DESCRIPTION, LOW_PRICE, HIGH_PRICE, PRICE_UM, CREATEDATE, CREATETIME, CREATEUSER, CREATESTATION, LASTDATE, LASTTIME, LASTUSER, LASTSTATION FROM shapiro.dbo.PPMKTD where EFFECTIVE_DATE >= '2019-01-01';\n",
      "here I'm now reading from source client: <pysql_beam.sql_io.wrapper.MSSQLWrapper object at 0x7f9a607b2650>\n",
      "<pysql_beam.sql_io.wrapper.MSSQLWrapper object at 0x7f9a607b23d0> SELECT COMPANY, DIVISION, MARKET, COMMODITY, EFFECTIVE_DATE, ISSUE_DATE, DESCRIPTION, LOW_PRICE, HIGH_PRICE, PRICE_UM, CREATEDATE, CREATETIME, CREATEUSER, CREATESTATION, LASTDATE, LASTTIME, LASTUSER, LASTSTATION FROM shapiro.dbo.PPMKTD where EFFECTIVE_DATE >= '2019-01-01' ORDER BY 1 OFFSET 0 ROWS FETCH NEXT 1000 ROWS ONLY;\n",
      "closing the query now SELECT COMPANY, DIVISION, MARKET, COMMODITY, EFFECTIVE_DATE, ISSUE_DATE, DESCRIPTION, LOW_PRICE, HIGH_PRICE, PRICE_UM, CREATEDATE, CREATETIME, CREATEUSER, CREATESTATION, LASTDATE, LASTTIME, LASTUSER, LASTSTATION FROM shapiro.dbo.PPMKTD where EFFECTIVE_DATE >= '2019-01-01' ORDER BY 1 OFFSET 0 ROWS FETCH NEXT 1000 ROWS ONLY;\n",
      "SELECT COMPANY, DIVISION, MARKET, COMMODITY, EFFECTIVE_DATE, ISSUE_DATE, DESCRIPTION, LOW_PRICE, HIGH_PRICE, PRICE_UM, CREATEDATE, CREATETIME, CREATEUSER, CREATESTATION, LASTDATE, LASTTIME, LASTUSER, LASTSTATION FROM shapiro.dbo.PPMKTD where EFFECTIVE_DATE >= '2019-01-01' ORDER BY 1 OFFSET 0 ROWS FETCH NEXT 1000 ROWS ONLY;\n",
      "SELECT COMPANY, DIVISION, MARKET, COMMODITY, EFFECTIVE_DATE, ISSUE_DATE, DESCRIPTION, LOW_PRICE, HIGH_PRICE, PRICE_UM, CREATEDATE, CREATETIME, CREATEUSER, CREATESTATION, LASTDATE, LASTTIME, LASTUSER, LASTSTATION FROM shapiro.dbo.PPMKTD where EFFECTIVE_DATE >= '2019-01-01' ORDER BY 1 OFFSET 1000 ROWS FETCH NEXT 1000 ROWS ONLY;\n",
      "host 172.16.32.3\n",
      "port 1433\n",
      "database shapiro\n",
      "username sqlserver\n",
      "password 5HjmiJNj4hcnuEyw\n",
      "query SELECT COMPANY, DIVISION, MARKET, COMMODITY, EFFECTIVE_DATE, ISSUE_DATE, DESCRIPTION, LOW_PRICE, HIGH_PRICE, PRICE_UM, CREATEDATE, CREATETIME, CREATEUSER, CREATESTATION, LASTDATE, LASTTIME, LASTUSER, LASTSTATION FROM shapiro.dbo.PPMKTD where EFFECTIVE_DATE >= '2019-01-01';\n",
      "here I'm now reading from source client: <pysql_beam.sql_io.wrapper.MSSQLWrapper object at 0x7f9a6075d2d0>\n",
      "<pysql_beam.sql_io.wrapper.MSSQLWrapper object at 0x7f9a607b2410> SELECT COMPANY, DIVISION, MARKET, COMMODITY, EFFECTIVE_DATE, ISSUE_DATE, DESCRIPTION, LOW_PRICE, HIGH_PRICE, PRICE_UM, CREATEDATE, CREATETIME, CREATEUSER, CREATESTATION, LASTDATE, LASTTIME, LASTUSER, LASTSTATION FROM shapiro.dbo.PPMKTD where EFFECTIVE_DATE >= '2019-01-01' ORDER BY 1 OFFSET 1000 ROWS FETCH NEXT 1000 ROWS ONLY;\n",
      "closing the query now SELECT COMPANY, DIVISION, MARKET, COMMODITY, EFFECTIVE_DATE, ISSUE_DATE, DESCRIPTION, LOW_PRICE, HIGH_PRICE, PRICE_UM, CREATEDATE, CREATETIME, CREATEUSER, CREATESTATION, LASTDATE, LASTTIME, LASTUSER, LASTSTATION FROM shapiro.dbo.PPMKTD where EFFECTIVE_DATE >= '2019-01-01' ORDER BY 1 OFFSET 1000 ROWS FETCH NEXT 1000 ROWS ONLY;\n",
      "SELECT COMPANY, DIVISION, MARKET, COMMODITY, EFFECTIVE_DATE, ISSUE_DATE, DESCRIPTION, LOW_PRICE, HIGH_PRICE, PRICE_UM, CREATEDATE, CREATETIME, CREATEUSER, CREATESTATION, LASTDATE, LASTTIME, LASTUSER, LASTSTATION FROM shapiro.dbo.PPMKTD where EFFECTIVE_DATE >= '2019-01-01' ORDER BY 1 OFFSET 1000 ROWS FETCH NEXT 1000 ROWS ONLY;\n"
     ]
    }
   ],
   "source": [
    "! python cloud_sql_to_file.py  --host '172.16.32.3'  --port 1433  --database 'shapiro'  --username 'sqlserver'  --password '5HjmiJNj4hcnuEyw'  --query \"SELECT COMPANY, DIVISION, MARKET, COMMODITY, EFFECTIVE_DATE, ISSUE_DATE, DESCRIPTION, LOW_PRICE, HIGH_PRICE, PRICE_UM, CREATEDATE, CREATETIME, CREATEUSER, CREATESTATION, LASTDATE, LASTTIME, LASTUSER, LASTSTATION FROM shapiro.dbo.PPMKTD where EFFECTIVE_DATE >= '2019-01-01';\"  --output_table 'shapiro-metals:shapiro_analytics.ppmktd_filter_effective_date' --temp_location \"gs://shapiro-dataflow-staging/tmp\" --experiment=use_beam_bq_sink #--region us-central1 --runner DataflowRunner  --project shapiro-metals  \n"
   ]
  },
  {
   "cell_type": "code",
   "execution_count": 3,
   "metadata": {},
   "outputs": [],
   "source": [
    "import pyodbc\n",
    "server = '172.16.32.3'\n",
    "database = 'shapiro'\n",
    "username = 'sqlserver'\n",
    "password = '5HjmiJNj4hcnuEyw'\n",
    "driver='{ODBC Driver 17 for SQL Server}'\n",
    "cnxn = pyodbc.connect('DRIVER='+driver+';SERVER='+server+';PORT=1443;DATABASE='+database+';UID='+username+';PWD='+password)\n",
    "cursor = cnxn.cursor()\n",
    "cursor.execute('SELECT * INTO TempTable FROM DITRIP ALTER TABLE TempTable DROP COLUMN SIGNATURE ');\n",
    "cursor.close()\n",
    "cnxn.close()"
   ]
  },
  {
   "cell_type": "code",
   "execution_count": 4,
   "metadata": {},
   "outputs": [
    {
     "name": "stdout",
     "output_type": "stream",
     "text": [
      "from inside the readFromSQL class, source: <class 'pysql_beam.sql_io.wrapper.MSSQLWrapper'>\n",
      "pagination query do fn wrapper: <class 'pysql_beam.sql_io.wrapper.MSSQLWrapper'>\n",
      "/opt/conda/lib/python3.7/site-packages/apache_beam/io/gcp/bigquery.py:1677: BeamDeprecationWarning: options is deprecated since First stable release. References to <pipeline>.options will not be supported\n",
      "  experiments = p.options.view_as(DebugOptions).experiments or []\n",
      "/opt/conda/lib/python3.7/site-packages/apache_beam/io/gcp/bigquery_file_loads.py:900: BeamDeprecationWarning: options is deprecated since First stable release. References to <pipeline>.options will not be supported\n",
      "  temp_location = p.options.view_as(GoogleCloudOptions).temp_location\n",
      "host 172.16.32.3\n",
      "port 1433\n",
      "database shapiro\n",
      "username sqlserver\n",
      "password 5HjmiJNj4hcnuEyw\n",
      "query SELECT * FROM TempTable\n",
      "we're in the process method now; source.client: <pysql_beam.sql_io.wrapper.MSSQLWrapper object at 0x7f685061f210>\n",
      "select count(1) as row_count from (SELECT * FROM TempTable) as subq ORDER BY 1 OFFSET 0 ROWS FETCH NEXT 1000 ROWS ONLY;\n",
      "ERROR:root:('42S02', \"[42S02] [Microsoft][ODBC Driver 17 for SQL Server][SQL Server]Invalid object name 'TempTable'. (208) (SQLExecDirectW)\")\n",
      "SELECT * FROM TempTable\n",
      "host 172.16.32.3\n",
      "port 1433\n",
      "database shapiro\n",
      "username sqlserver\n",
      "password 5HjmiJNj4hcnuEyw\n",
      "query SELECT * FROM TempTable\n",
      "here I'm now reading from source client: <pysql_beam.sql_io.wrapper.MSSQLWrapper object at 0x7f685061f1d0>\n",
      "<pysql_beam.sql_io.wrapper.MSSQLWrapper object at 0x7f6850673050> SELECT * FROM TempTable\n",
      "SELECT * FROM TempTable ORDER BY 1 OFFSET 0 ROWS FETCH NEXT 5000 ROWS ONLY;\n",
      "Traceback (most recent call last):\n",
      "  File \"apache_beam/runners/common.py\", line 1213, in apache_beam.runners.common.DoFnRunner.process\n",
      "  File \"apache_beam/runners/common.py\", line 569, in apache_beam.runners.common.SimpleInvoker.invoke_process\n",
      "  File \"apache_beam/runners/common.py\", line 1347, in apache_beam.runners.common._OutputProcessor.process_outputs\n",
      "  File \"/home/jupyter/shapiro-johannes/pysql-beam/pysql_beam/sql_io/sql.py\", line 359, in process\n",
      "    for records, schema in source.client.read(query):\n",
      "  File \"/home/jupyter/shapiro-johannes/pysql-beam/pysql_beam/sql_io/wrapper.py\", line 526, in read\n",
      "    cursor.execute(paginated_query)\n",
      "pyodbc.ProgrammingError: ('42S02', \"[42S02] [Microsoft][ODBC Driver 17 for SQL Server][SQL Server]Invalid object name 'TempTable'. (208) (SQLExecDirectW)\")\n",
      "\n",
      "During handling of the above exception, another exception occurred:\n",
      "\n",
      "Traceback (most recent call last):\n",
      "  File \"cloud_sql_to_file.py\", line 109, in <module>\n",
      "    run()\n",
      "  File \"cloud_sql_to_file.py\", line 104, in run\n",
      "    pipeline.run().wait_until_finish()\n",
      "  File \"/opt/conda/lib/python3.7/site-packages/apache_beam/pipeline.py\", line 547, in run\n",
      "    return self.runner.run_pipeline(self, self._options)\n",
      "  File \"/opt/conda/lib/python3.7/site-packages/apache_beam/runners/direct/direct_runner.py\", line 119, in run_pipeline\n",
      "    return runner.run_pipeline(pipeline, options)\n",
      "  File \"/opt/conda/lib/python3.7/site-packages/apache_beam/runners/portability/fn_api_runner/fn_runner.py\", line 176, in run_pipeline\n",
      "    pipeline.to_runner_api(default_environment=self._default_environment))\n",
      "  File \"/opt/conda/lib/python3.7/site-packages/apache_beam/runners/portability/fn_api_runner/fn_runner.py\", line 186, in run_via_runner_api\n",
      "    return self.run_stages(stage_context, stages)\n",
      "  File \"/opt/conda/lib/python3.7/site-packages/apache_beam/runners/portability/fn_api_runner/fn_runner.py\", line 346, in run_stages\n",
      "    bundle_context_manager,\n",
      "  File \"/opt/conda/lib/python3.7/site-packages/apache_beam/runners/portability/fn_api_runner/fn_runner.py\", line 534, in _run_stage\n",
      "    bundle_manager)\n",
      "  File \"/opt/conda/lib/python3.7/site-packages/apache_beam/runners/portability/fn_api_runner/fn_runner.py\", line 572, in _run_bundle\n",
      "    data_input, data_output, input_timers, expected_timer_output)\n",
      "  File \"/opt/conda/lib/python3.7/site-packages/apache_beam/runners/portability/fn_api_runner/fn_runner.py\", line 852, in process_bundle\n",
      "    result_future = self._worker_handler.control_conn.push(process_bundle_req)\n",
      "  File \"/opt/conda/lib/python3.7/site-packages/apache_beam/runners/portability/fn_api_runner/worker_handlers.py\", line 353, in push\n",
      "    response = self.worker.do_instruction(request)\n",
      "  File \"/opt/conda/lib/python3.7/site-packages/apache_beam/runners/worker/sdk_worker.py\", line 484, in do_instruction\n",
      "    getattr(request, request_type), request.instruction_id)\n",
      "  File \"/opt/conda/lib/python3.7/site-packages/apache_beam/runners/worker/sdk_worker.py\", line 519, in process_bundle\n",
      "    bundle_processor.process_bundle(instruction_id))\n",
      "  File \"/opt/conda/lib/python3.7/site-packages/apache_beam/runners/worker/bundle_processor.py\", line 985, in process_bundle\n",
      "    element.data)\n",
      "  File \"/opt/conda/lib/python3.7/site-packages/apache_beam/runners/worker/bundle_processor.py\", line 221, in process_encoded\n",
      "    self.output(decoded_value)\n",
      "  File \"apache_beam/runners/worker/operations.py\", line 354, in apache_beam.runners.worker.operations.Operation.output\n",
      "  File \"apache_beam/runners/worker/operations.py\", line 356, in apache_beam.runners.worker.operations.Operation.output\n",
      "  File \"apache_beam/runners/worker/operations.py\", line 218, in apache_beam.runners.worker.operations.SingletonConsumerSet.receive\n",
      "  File \"apache_beam/runners/worker/operations.py\", line 703, in apache_beam.runners.worker.operations.DoOperation.process\n",
      "  File \"apache_beam/runners/worker/operations.py\", line 704, in apache_beam.runners.worker.operations.DoOperation.process\n",
      "  File \"apache_beam/runners/common.py\", line 1215, in apache_beam.runners.common.DoFnRunner.process\n",
      "  File \"apache_beam/runners/common.py\", line 1279, in apache_beam.runners.common.DoFnRunner._reraise_augmented\n",
      "  File \"apache_beam/runners/common.py\", line 1213, in apache_beam.runners.common.DoFnRunner.process\n",
      "  File \"apache_beam/runners/common.py\", line 569, in apache_beam.runners.common.SimpleInvoker.invoke_process\n",
      "  File \"apache_beam/runners/common.py\", line 1374, in apache_beam.runners.common._OutputProcessor.process_outputs\n",
      "  File \"apache_beam/runners/worker/operations.py\", line 218, in apache_beam.runners.worker.operations.SingletonConsumerSet.receive\n",
      "  File \"apache_beam/runners/worker/operations.py\", line 703, in apache_beam.runners.worker.operations.DoOperation.process\n",
      "  File \"apache_beam/runners/worker/operations.py\", line 704, in apache_beam.runners.worker.operations.DoOperation.process\n",
      "  File \"apache_beam/runners/common.py\", line 1215, in apache_beam.runners.common.DoFnRunner.process\n",
      "  File \"apache_beam/runners/common.py\", line 1279, in apache_beam.runners.common.DoFnRunner._reraise_augmented\n",
      "  File \"apache_beam/runners/common.py\", line 1213, in apache_beam.runners.common.DoFnRunner.process\n",
      "  File \"apache_beam/runners/common.py\", line 569, in apache_beam.runners.common.SimpleInvoker.invoke_process\n",
      "  File \"apache_beam/runners/common.py\", line 1374, in apache_beam.runners.common._OutputProcessor.process_outputs\n",
      "  File \"apache_beam/runners/worker/operations.py\", line 218, in apache_beam.runners.worker.operations.SingletonConsumerSet.receive\n",
      "  File \"apache_beam/runners/worker/operations.py\", line 703, in apache_beam.runners.worker.operations.DoOperation.process\n",
      "  File \"apache_beam/runners/worker/operations.py\", line 704, in apache_beam.runners.worker.operations.DoOperation.process\n",
      "  File \"apache_beam/runners/common.py\", line 1215, in apache_beam.runners.common.DoFnRunner.process\n",
      "  File \"apache_beam/runners/common.py\", line 1294, in apache_beam.runners.common.DoFnRunner._reraise_augmented\n",
      "  File \"/opt/conda/lib/python3.7/site-packages/future/utils/__init__.py\", line 446, in raise_with_traceback\n",
      "    raise exc.with_traceback(traceback)\n",
      "  File \"apache_beam/runners/common.py\", line 1213, in apache_beam.runners.common.DoFnRunner.process\n",
      "  File \"apache_beam/runners/common.py\", line 569, in apache_beam.runners.common.SimpleInvoker.invoke_process\n",
      "  File \"apache_beam/runners/common.py\", line 1347, in apache_beam.runners.common._OutputProcessor.process_outputs\n",
      "  File \"/home/jupyter/shapiro-johannes/pysql-beam/pysql_beam/sql_io/sql.py\", line 359, in process\n",
      "    for records, schema in source.client.read(query):\n",
      "  File \"/home/jupyter/shapiro-johannes/pysql-beam/pysql_beam/sql_io/wrapper.py\", line 526, in read\n",
      "    cursor.execute(paginated_query)\n",
      "pyodbc.ProgrammingError: (\"42S02 [while running 'ReadFromSQL/Read']\", \"[42S02] [Microsoft][ODBC Driver 17 for SQL Server][SQL Server]Invalid object name 'TempTable'. (208) (SQLExecDirectW)\")\n"
     ]
    }
   ],
   "source": [
    "! python cloud_sql_to_file.py  --host '172.16.32.3'  --port 1433  --database 'shapiro'  --username 'sqlserver'  --password '5HjmiJNj4hcnuEyw'  --query \"SELECT * FROM TempTable\"  --output_table 'shapiro-metals:shapiro_analytics.DITRIP' --temp_location \"gs://shapiro-dataflow-staging/tmp\" --experiment=use_beam_bq_sink #--region us-central1 --runner DataflowRunner  --project shapiro-metals  \n"
   ]
  },
  {
   "cell_type": "markdown",
   "metadata": {},
   "source": [
    "Correctly done: `GLTRAN`, `AMTRAND` `CITRAND` `CITRANH` `DIRTRIP` `GLCHARH` `MSSHIPD` `MSSHIPH` `SIINVD` `SMDITRP` `DITRIP` `APADV` `SRSHIP` `SIINVH` `CITRAND` `DIIMAGE` `DIRTRIP` `MSSHIPD` `CACAM` `SMPSTERR` `MRIMAGE` `FRPLAND` `FRPLANH` `MRVIN` `SMCRITERIA` `MRINSP` `MSIMAGE`\n",
    "  "
   ]
  },
  {
   "cell_type": "code",
   "execution_count": null,
   "metadata": {},
   "outputs": [],
   "source": [
    "print(1)"
   ]
  },
  {
   "cell_type": "code",
   "execution_count": null,
   "metadata": {},
   "outputs": [],
   "source": [
    "DITRIP"
   ]
  }
 ],
 "metadata": {
  "kernelspec": {
   "display_name": "Apache Beam 2.25.0 for Python 3",
   "language": "python",
   "name": "apache-beam-2.25.0"
  },
  "language_info": {
   "codemirror_mode": {
    "name": "ipython",
    "version": 3
   },
   "file_extension": ".py",
   "mimetype": "text/x-python",
   "name": "python",
   "nbconvert_exporter": "python",
   "pygments_lexer": "ipython3",
   "version": "3.7.8"
  }
 },
 "nbformat": 4,
 "nbformat_minor": 4
}
